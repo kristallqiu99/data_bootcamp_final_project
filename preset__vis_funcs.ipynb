{
 "cells": [
  {
   "cell_type": "markdown",
   "metadata": {},
   "source": [
    "## Fuctions for plotting\n",
    "##### Since there are four cities in total and the format of dataframes are unified, applying fuctions for repetitive plottings is more efficient."
   ]
  },
  {
   "cell_type": "code",
   "execution_count": 2,
   "metadata": {},
   "outputs": [],
   "source": [
    "import pandas as pd\n",
    "import numpy as np\n",
    "import matplotlib as mpl\n",
    "import matplotlib.pyplot as plt\n",
    "import matplotlib.image as img\n",
    "from PIL import Image\n",
    "import requests\n",
    "from io import BytesIO\n",
    "import seaborn as sns\n",
    "from scipy.stats import norm\n",
    "from scipy import stats\n",
    "%matplotlib inline"
   ]
  },
  {
   "cell_type": "code",
   "execution_count": 3,
   "metadata": {},
   "outputs": [],
   "source": [
    "# import dataset\n",
    "def import_df(web):\n",
    "    df = pd.read_csv(web)\n",
    "    df['price'] = df['price'].str.replace('$','')\n",
    "    df['price'] = df['price'].str.replace(',','').astype(float)\n",
    "    return df"
   ]
  },
  {
   "cell_type": "code",
   "execution_count": 4,
   "metadata": {},
   "outputs": [],
   "source": [
    "# import the image\n",
    "def import_img(web):\n",
    "    response = requests.get(web)\n",
    "    img = Image.open(BytesIO(response.content))\n",
    "    return img"
   ]
  },
  {
   "cell_type": "code",
   "execution_count": 5,
   "metadata": {},
   "outputs": [],
   "source": [
    "# get the max/min value of longitude and latitude\n",
    "def area(df):\n",
    "    xl=df['longitude'].min()\n",
    "    xh=df['longitude'].max()\n",
    "    yl=df['latitude'].min()\n",
    "    yh=df['latitude'].max()\n",
    "    return xl,xh,yl,yh"
   ]
  },
  {
   "cell_type": "code",
   "execution_count": 6,
   "metadata": {},
   "outputs": [],
   "source": [
    "# get the overall geographic location for all houses\n",
    "def location(city,df,sqrt,colorsize,figsize1,figsize2):\n",
    "    mpl.rcParams.update(mpl.rcParamsDefault)\n",
    "    %matplotlib inline\n",
    "    \n",
    "    cmap = plt.cm.coolwarm\n",
    "    n = mpl.colors.Normalize()\n",
    "    fig,ax = plt.subplots(figsize=(figsize1,figsize2))\n",
    "    df.plot.scatter(ax=ax,x='longitude',y='latitude',s=df['price']**sqrt,\n",
    "                    color=cmap(n(df['price'].values)*colorsize))\n",
    "    ax.set_xlim(df['longitude'].min()-0.01,df['longitude'].max()+0.01)\n",
    "    ax.set_ylim(df['latitude'].min()-0.01,df['latitude'].max()+0.01)\n",
    "    ax.set_xlabel('Longitude')\n",
    "    ax.set_ylabel('Latitude')\n",
    "    ax.set_title(city+' Airbnb Locations',size=14,fontweight='bold')\n",
    "    return fig,ax"
   ]
  },
  {
   "cell_type": "code",
   "execution_count": 7,
   "metadata": {},
   "outputs": [],
   "source": [
    "# get the geographic location under each room type category\n",
    "def room_type_location(df,sqrt,colorsize,figsize1,figsize2):\n",
    "    mpl.rcParams.update(mpl.rcParamsDefault)\n",
    "    %matplotlib inline\n",
    "    \n",
    "    rtype = df.groupby(['id','room_type','latitude','longitude'],as_index=False)[['price']].mean()\n",
    "    types = df['room_type'].unique()\n",
    "    num = len(types)\n",
    "    cmap = plt.cm.coolwarm\n",
    "    n = mpl.colors.Normalize()\n",
    "    fig,ax = plt.subplots(1,num,figsize=(figsize1*num,figsize2))\n",
    "    for i in range(0,num):\n",
    "        tprice = rtype.loc[rtype['room_type']==types[i],:]\n",
    "        tprice.plot.scatter(ax=ax[i],x='longitude',y='latitude',s=tprice['price']**sqrt,\n",
    "                            color=cmap(n(tprice['price'].values)*colorsize))\n",
    "        ax[i].set_xlim(df['longitude'].min()-0.01,df['longitude'].max()+0.01)\n",
    "        ax[i].set_ylim(df['latitude'].min()-0.01,df['latitude'].max()+0.01)\n",
    "        ax[i].set_title(types[i],size=13,fontweight='bold')\n",
    "        ax[i].set_xlabel('Longitude')\n",
    "        ax[i].set_ylabel('Latitude')\n",
    "    return fig,ax"
   ]
  },
  {
   "cell_type": "code",
   "execution_count": 8,
   "metadata": {},
   "outputs": [],
   "source": [
    "# get the top 10 hosts with the most house listings\n",
    "def top_hosts(city,df):\n",
    "    top_host = df['host_id'].value_counts()[:10]\n",
    "    ax = sns.barplot(top_host.index, top_host.values,order=top_host.index)\n",
    "    ax.set_xticklabels(ax.get_xticklabels(),rotation=45)\n",
    "    ax.set_title('Hosts with the most listings in '+city,size=14,fontweight='bold')\n",
    "    ax.set_ylabel('Count of listings')\n",
    "    ax.set_xlabel('Host IDs')"
   ]
  },
  {
   "cell_type": "code",
   "execution_count": 9,
   "metadata": {},
   "outputs": [],
   "source": [
    "# count number of listings in each neighbourhood\n",
    "def count_nei(city,df):\n",
    "    mpl.rcParams.update(mpl.rcParamsDefault)\n",
    "    %matplotlib inline\n",
    "    fig,ax = plt.subplots(figsize=(18,5))\n",
    "    ax = sns.countplot(x='neighbourhood',data=df)\n",
    "    ax.set_xlabel('Neighbourhood group')\n",
    "    ax.set_ylabel('Count')\n",
    "    ax.set_title('Counts of listings in neighbourhoods',fontsize=14,fontweight='bold')\n",
    "    ax.set_xticklabels(ax.get_xticklabels(),rotation=90)\n",
    "    return fig,ax"
   ]
  },
  {
   "cell_type": "code",
   "execution_count": 10,
   "metadata": {},
   "outputs": [],
   "source": [
    "# plot pie charts for number of listings in each neighbourhood\n",
    "def nei_pie(city,df): \n",
    "    if city == 'NYC':\n",
    "        labels = df.neighbourhood_group.value_counts().index\n",
    "        sizes = df.neighbourhood_group.value_counts().values\n",
    "        explode = (0.1, 0.2, 0.3, 0.4, 0.6)\n",
    "    else:\n",
    "        labels = df.neighbourhood.value_counts().index\n",
    "        sizes = df.neighbourhood.value_counts().values\n",
    "        explode = np.full(len(sizes),0.1)\n",
    "    fig, ax = plt.subplots()\n",
    "    wedges, texts, autotexts = ax.pie(sizes, explode=explode,labels=labels, autopct='%1.1f%%',\n",
    "                                       shadow=True, startangle=90)\n",
    "    ax.axis('equal')  # Equal aspect ratio ensures that pie is drawn as a circle.\n",
    "    ax.set_title('Most rented neighbourhood group pie chart',size=12,fontweight='bold')\n",
    "    ax.legend(wedges, labels,\n",
    "              title='Neighbourhood groups',\n",
    "              loc='center left',\n",
    "              bbox_to_anchor=(1, 0, 0.5, 1))\n",
    "    return ax"
   ]
  },
  {
   "cell_type": "code",
   "execution_count": 11,
   "metadata": {},
   "outputs": [],
   "source": [
    "# get price distribution of each neighbourhood\n",
    "def nei_stats(city,df):\n",
    "    if city == 'NYC':\n",
    "        col = 'neighbourhood_group'\n",
    "    else:\n",
    "        col = 'neighbourhood'\n",
    "    nei = df[col].unique()\n",
    "    price_list = []\n",
    "    for n in nei:\n",
    "        sub = df.loc[df[col] == n]\n",
    "        sub_price = sub[['price']]\n",
    "        price_list.append(sub_price)\n",
    "    stats_list = []\n",
    "    for p in price_list:\n",
    "        i = p.describe(percentiles=[.25, .50, .75])\n",
    "        i = i.iloc[3:]\n",
    "        i.reset_index(inplace=True)\n",
    "        i.rename(columns={'index':'Stats'},inplace=True)\n",
    "        stats_list.append(i)\n",
    "    # change names of the price column to the area name\n",
    "    for i in range(0,len(nei)):\n",
    "        stats_list[i].rename(columns={'price':nei[i]},inplace=True)\n",
    "\n",
    "    # finilize dataframe for final view    \n",
    "    stats_df = stats_list\n",
    "    stats_df = [df.set_index('Stats') for df in stats_df]\n",
    "    stats_df = stats_df[0].join(stats_df[1:])\n",
    "    stats_df\n",
    "    return stats_df"
   ]
  },
  {
   "cell_type": "code",
   "execution_count": 12,
   "metadata": {},
   "outputs": [],
   "source": [
    "# violinplot to show density and distribtuion of prices \n",
    "def plot_distribution(city,df,dropv):\n",
    "    if city == 'NYC':\n",
    "        col = 'neighbourhood_group'\n",
    "        angel = 0\n",
    "    else:\n",
    "        col = 'neighbourhood'\n",
    "        angel = 45\n",
    "    # create a sub-dataframe with no extreme values / less than 500\n",
    "    no_extreme = df[df.price < dropv]    \n",
    "    ax = sns.violinplot(data=no_extreme,x=col,y='price')\n",
    "    ax.set_xlabel('Neighbourhood group')\n",
    "    ax.set_ylabel('Price')\n",
    "    ax.set_title('Density and distribution of prices for each neighbourhood group',fontweight='bold')\n",
    "    ax.set_xticklabels(ax.get_xticklabels(),rotation=angel)\n",
    "    return fig,ax"
   ]
  },
  {
   "cell_type": "code",
   "execution_count": 13,
   "metadata": {},
   "outputs": [],
   "source": [
    "# get top 10 neighborhoods with the most listings\n",
    "def top_nei(city,df): \n",
    "    nbhd = df.neighbourhood.value_counts()[:10]\n",
    "    figure,ax = plt.subplots(figsize=(6,4))\n",
    "    x = list(nbhd.index)\n",
    "    y = list(nbhd.values)\n",
    "    ax = sns.barplot(y,x)\n",
    "    ax.set_title('Most Popular Neighbourhood in '+city,size=14,fontweight='bold')\n",
    "    ax.set_ylabel(\"Neighbourhood area\")\n",
    "    ax.set_xlabel(\"Number of guest hosted in this Area\")\n",
    "    return fig,ax"
   ]
  },
  {
   "cell_type": "code",
   "execution_count": 14,
   "metadata": {},
   "outputs": [],
   "source": [
    "# get the number of rooms under each room type in the top 10 neighborhoods\n",
    "def top_nei_room_type(city,df):\n",
    "    top10nei = df.neighbourhood.value_counts()[:10].index\n",
    "    top10nei_df = df.loc[df['neighbourhood'].isin(top10nei)]\n",
    "    if city == 'NYC':\n",
    "        ax = sns.catplot(x='neighbourhood',col='room_type',hue='neighbourhood_group',data=top10nei_df,kind='count')\n",
    "    else:\n",
    "        ax = sns.catplot(x='neighbourhood',col='room_type',data=top10nei_df,kind='count')\n",
    "    ax.set_xticklabels(rotation=45)\n",
    "    return ax"
   ]
  },
  {
   "cell_type": "code",
   "execution_count": 15,
   "metadata": {},
   "outputs": [],
   "source": [
    "# colormap to display avaialbility_365\n",
    "def ava365(city,df,figsize1,figsize2):\n",
    "    fig,ax = plt.subplots(figsize=(figsize1,figsize2))\n",
    "    df.plot(kind='scatter', x='longitude', y='latitude', label='availability_365', c='availability_365', cmap='YlGnBu', alpha=0.6,colorbar=True,ax=ax)\n",
    "    ax.set_title('Availability of rooms in '+city,size=14,fontweight='bold')\n",
    "    ax.set_xlabel('Longitude')\n",
    "    ax.set_ylabel('Latitude')\n",
    "    ax.legend().remove()\n",
    "    return fig,ax"
   ]
  },
  {
   "cell_type": "code",
   "execution_count": null,
   "metadata": {},
   "outputs": [],
   "source": []
  }
 ],
 "metadata": {
  "kernelspec": {
   "display_name": "Python 3",
   "language": "python",
   "name": "python3"
  },
  "language_info": {
   "codemirror_mode": {
    "name": "ipython",
    "version": 3
   },
   "file_extension": ".py",
   "mimetype": "text/x-python",
   "name": "python",
   "nbconvert_exporter": "python",
   "pygments_lexer": "ipython3",
   "version": "3.8.3"
  }
 },
 "nbformat": 4,
 "nbformat_minor": 4
}
